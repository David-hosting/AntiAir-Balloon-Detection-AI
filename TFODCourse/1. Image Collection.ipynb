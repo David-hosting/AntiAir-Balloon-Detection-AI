{
 "cells": [
  {
   "cell_type": "markdown",
   "metadata": {},
   "source": [
    "# 1. Import Dependencies"
   ]
  },
  {
   "cell_type": "code",
   "execution_count": 1,
   "metadata": {},
   "outputs": [
    {
     "name": "stdout",
     "output_type": "stream",
     "text": [
      "Collecting opencv-python\n",
      "  Using cached opencv_python-4.7.0.68-cp37-abi3-win_amd64.whl (38.2 MB)\n",
      "Collecting numpy>=1.17.0\n",
      "  Using cached numpy-1.21.6-cp37-cp37m-win_amd64.whl (14.0 MB)\n",
      "Installing collected packages: numpy, opencv-python\n",
      "Successfully installed numpy-1.21.6 opencv-python-4.7.0.68\n"
     ]
    }
   ],
   "source": [
    "!pip install opencv-python"
   ]
  },
  {
   "cell_type": "code",
   "execution_count": 2,
   "metadata": {},
   "outputs": [],
   "source": [
    "# Import opencv\n",
    "import cv2 \n",
    "\n",
    "# Import uuid\n",
    "import uuid\n",
    "\n",
    "# Import Operating System\n",
    "import os\n",
    "\n",
    "# Import time\n",
    "import time"
   ]
  },
  {
   "cell_type": "markdown",
   "metadata": {},
   "source": [
    "# 2. Define Images to Collect"
   ]
  },
  {
   "cell_type": "code",
   "execution_count": 11,
   "metadata": {},
   "outputs": [],
   "source": [
    "#labels = ['thumbsup', 'thumbsdown', 'thankyou', 'livelong']\n",
    "#number_imgs = 5\n",
    "\n",
    "labels = ['Balloon']\n",
    "number_imgs = 21"
   ]
  },
  {
   "cell_type": "markdown",
   "metadata": {},
   "source": [
    "# 3. Setup Folders "
   ]
  },
  {
   "cell_type": "code",
   "execution_count": 4,
   "metadata": {},
   "outputs": [],
   "source": [
    "IMAGES_PATH = os.path.join('Tensorflow', 'workspace', 'images', 'collectedimages')"
   ]
  },
  {
   "cell_type": "code",
   "execution_count": 5,
   "metadata": {},
   "outputs": [],
   "source": [
    "if not os.path.exists(IMAGES_PATH):\n",
    "    if os.name == 'posix':\n",
    "        !mkdir -p {IMAGES_PATH}\n",
    "    if os.name == 'nt':\n",
    "         !mkdir {IMAGES_PATH}\n",
    "for label in labels:\n",
    "    path = os.path.join(IMAGES_PATH, label)\n",
    "    if not os.path.exists(path):\n",
    "        !mkdir {path}"
   ]
  },
  {
   "cell_type": "markdown",
   "metadata": {},
   "source": [
    "# 4. Capture Images"
   ]
  },
  {
   "cell_type": "code",
   "execution_count": 10,
   "metadata": {},
   "outputs": [
    {
     "name": "stdout",
     "output_type": "stream",
     "text": [
      "Collecting images for Balloon\n",
      "Collecting image 0\n",
      "Collecting image 1\n",
      "Collecting image 2\n"
     ]
    }
   ],
   "source": [
    "for label in labels:\n",
    "    cap = cv2.VideoCapture(1)\n",
    "    print('Collecting images for {}'.format(label))\n",
    "    time.sleep(5)\n",
    "    for imgnum in range(number_imgs):\n",
    "        print('Collecting image {}'.format(imgnum))\n",
    "        ret, frame = cap.read()\n",
    "        imgname = os.path.join(IMAGES_PATH,label,label+'.'+'{}.jpg'.format(str(uuid.uuid1())))\n",
    "        cv2.imwrite(imgname, frame)\n",
    "        cv2.imshow('frame', frame)\n",
    "        time.sleep(2)\n",
    "\n",
    "        if cv2.waitKey(1) & 0xFF == ord('q'):\n",
    "            break\n",
    "cap.release()\n",
    "cv2.destroyAllWindows()"
   ]
  },
  {
   "cell_type": "markdown",
   "metadata": {},
   "source": [
    "# 5. Image Labelling"
   ]
  },
  {
   "cell_type": "code",
   "execution_count": 12,
   "metadata": {},
   "outputs": [
    {
     "name": "stdout",
     "output_type": "stream",
     "text": [
      "Collecting pyqt5\n",
      "  Using cached PyQt5-5.15.9-cp37-abi3-win_amd64.whl (6.8 MB)\n",
      "Collecting lxml\n",
      "  Using cached lxml-4.9.2-cp37-cp37m-win_amd64.whl (3.8 MB)\n",
      "Collecting PyQt5-Qt5>=5.15.2\n",
      "  Using cached PyQt5_Qt5-5.15.2-py3-none-win_amd64.whl (50.1 MB)\n",
      "Collecting PyQt5-sip<13,>=12.11\n",
      "  Using cached PyQt5_sip-12.11.1-cp37-cp37m-win_amd64.whl (77 kB)\n",
      "Installing collected packages: PyQt5-Qt5, PyQt5-sip, lxml, pyqt5\n",
      "Successfully installed PyQt5-Qt5-5.15.2 PyQt5-sip-12.11.1 lxml-4.9.2 pyqt5-5.15.9\n"
     ]
    }
   ],
   "source": [
    "!pip install --upgrade pyqt5 lxml"
   ]
  },
  {
   "cell_type": "code",
   "execution_count": 13,
   "metadata": {},
   "outputs": [],
   "source": [
    "LABELIMG_PATH = os.path.join('Tensorflow', 'labelimg')"
   ]
  },
  {
   "cell_type": "code",
   "execution_count": 14,
   "metadata": {},
   "outputs": [
    {
     "name": "stderr",
     "output_type": "stream",
     "text": [
      "Cloning into 'Tensorflow\\labelimg'...\n"
     ]
    }
   ],
   "source": [
    "if not os.path.exists(LABELIMG_PATH):\n",
    "    !mkdir {LABELIMG_PATH}\n",
    "    !git clone https://github.com/tzutalin/labelImg {LABELIMG_PATH}"
   ]
  },
  {
   "cell_type": "code",
   "execution_count": 16,
   "metadata": {},
   "outputs": [],
   "source": [
    "if os.name == 'posix':\n",
    "    !cd {LABELIMG_PATH} && make qt5py3\n",
    "if os.name =='nt':\n",
    "    !cd {LABELIMG_PATH} && pyrcc5 -o libs/resources.py resources.qrc"
   ]
  },
  {
   "cell_type": "code",
   "execution_count": 17,
   "metadata": {},
   "outputs": [
    {
     "name": "stdout",
     "output_type": "stream",
     "text": [
      "Cancel creation.\n",
      "Image:C:\\Users\\User\\Desktop\\local\\TFODCourse\\Tensorflow\\workspace\\images\\collectedimages\\Balloon\\Balloon.0f08ac8c-af75-11ed-82e6-7085c28dab07.jpg -> Annotation:C:/Users/User/Desktop/local/TFODCourse/Tensorflow/workspace/images/collectedimages/Balloon\\Balloon.0f08ac8c-af75-11ed-82e6-7085c28dab07.xml\n",
      "Image:C:\\Users\\User\\Desktop\\local\\TFODCourse\\Tensorflow\\workspace\\images\\collectedimages\\Balloon\\Balloon.1b27ef1e-af75-11ed-92eb-7085c28dab07.jpg -> Annotation:C:/Users/User/Desktop/local/TFODCourse/Tensorflow/workspace/images/collectedimages/Balloon\\Balloon.1b27ef1e-af75-11ed-92eb-7085c28dab07.xml\n",
      "Image:C:\\Users\\User\\Desktop\\local\\TFODCourse\\Tensorflow\\workspace\\images\\collectedimages\\Balloon\\Balloon.1c5dba1c-af75-11ed-8cdc-7085c28dab07.jpg -> Annotation:C:/Users/User/Desktop/local/TFODCourse/Tensorflow/workspace/images/collectedimages/Balloon\\Balloon.1c5dba1c-af75-11ed-8cdc-7085c28dab07.xml\n",
      "Image:C:\\Users\\User\\Desktop\\local\\TFODCourse\\Tensorflow\\workspace\\images\\collectedimages\\Balloon\\Balloon.1d936694-af75-11ed-a317-7085c28dab07.jpg -> Annotation:C:/Users/User/Desktop/local/TFODCourse/Tensorflow/workspace/images/collectedimages/Balloon\\Balloon.1d936694-af75-11ed-a317-7085c28dab07.xml\n",
      "Image:C:\\Users\\User\\Desktop\\local\\TFODCourse\\Tensorflow\\workspace\\images\\collectedimages\\Balloon\\Balloon.1ecb24a8-af75-11ed-ad0b-7085c28dab07.jpg -> Annotation:C:/Users/User/Desktop/local/TFODCourse/Tensorflow/workspace/images/collectedimages/Balloon\\Balloon.1ecb24a8-af75-11ed-ad0b-7085c28dab07.xml\n",
      "Image:C:\\Users\\User\\Desktop\\local\\TFODCourse\\Tensorflow\\workspace\\images\\collectedimages\\Balloon\\Balloon.12ac859c-af75-11ed-ace2-7085c28dab07.jpg -> Annotation:C:/Users/User/Desktop/local/TFODCourse/Tensorflow/workspace/images/collectedimages/Balloon\\Balloon.12ac859c-af75-11ed-ace2-7085c28dab07.xml\n",
      "Image:C:\\Users\\User\\Desktop\\local\\TFODCourse\\Tensorflow\\workspace\\images\\collectedimages\\Balloon\\Balloon.13e28a34-af75-11ed-b147-7085c28dab07.jpg -> Annotation:C:/Users/User/Desktop/local/TFODCourse/Tensorflow/workspace/images/collectedimages/Balloon\\Balloon.13e28a34-af75-11ed-b147-7085c28dab07.xml\n",
      "Image:C:\\Users\\User\\Desktop\\local\\TFODCourse\\Tensorflow\\workspace\\images\\collectedimages\\Balloon\\Balloon.18bc36fa-af75-11ed-84a4-7085c28dab07.jpg -> Annotation:C:/Users/User/Desktop/local/TFODCourse/Tensorflow/workspace/images/collectedimages/Balloon\\Balloon.18bc36fa-af75-11ed-84a4-7085c28dab07.xml\n",
      "Cancel creation.\n",
      "Image:C:\\Users\\User\\Desktop\\local\\TFODCourse\\Tensorflow\\workspace\\images\\collectedimages\\Balloon\\Balloon.19f18328-af75-11ed-bfb4-7085c28dab07.jpg -> Annotation:C:/Users/User/Desktop/local/TFODCourse/Tensorflow/workspace/images/collectedimages/Balloon\\Balloon.19f18328-af75-11ed-bfb4-7085c28dab07.xml\n",
      "Image:C:\\Users\\User\\Desktop\\local\\TFODCourse\\Tensorflow\\workspace\\images\\collectedimages\\Balloon\\Balloon.41cb8da8-af75-11ed-961d-7085c28dab07.jpg -> Annotation:C:/Users/User/Desktop/local/TFODCourse/Tensorflow/workspace/images/collectedimages/Balloon\\Balloon.41cb8da8-af75-11ed-961d-7085c28dab07.xml\n",
      "Image:C:\\Users\\User\\Desktop\\local\\TFODCourse\\Tensorflow\\workspace\\images\\collectedimages\\Balloon\\Balloon.103f8538-af75-11ed-b983-7085c28dab07.jpg -> Annotation:C:/Users/User/Desktop/local/TFODCourse/Tensorflow/workspace/images/collectedimages/Balloon\\Balloon.103f8538-af75-11ed-b983-7085c28dab07.xml\n",
      "Image:C:\\Users\\User\\Desktop\\local\\TFODCourse\\Tensorflow\\workspace\\images\\collectedimages\\Balloon\\Balloon.226e9176-af75-11ed-a1ab-7085c28dab07.jpg -> Annotation:C:/Users/User/Desktop/local/TFODCourse/Tensorflow/workspace/images/collectedimages/Balloon\\Balloon.226e9176-af75-11ed-a1ab-7085c28dab07.xml\n",
      "Image:C:\\Users\\User\\Desktop\\local\\TFODCourse\\Tensorflow\\workspace\\images\\collectedimages\\Balloon\\Balloon.1174dcee-af75-11ed-9667-7085c28dab07.jpg -> Annotation:C:/Users/User/Desktop/local/TFODCourse/Tensorflow/workspace/images/collectedimages/Balloon\\Balloon.1174dcee-af75-11ed-9667-7085c28dab07.xml\n",
      "Image:C:\\Users\\User\\Desktop\\local\\TFODCourse\\Tensorflow\\workspace\\images\\collectedimages\\Balloon\\Balloon.1519e59c-af75-11ed-b080-7085c28dab07.jpg -> Annotation:C:/Users/User/Desktop/local/TFODCourse/Tensorflow/workspace/images/collectedimages/Balloon\\Balloon.1519e59c-af75-11ed-b080-7085c28dab07.xml\n",
      "Image:C:\\Users\\User\\Desktop\\local\\TFODCourse\\Tensorflow\\workspace\\images\\collectedimages\\Balloon\\Balloon.2002ee08-af75-11ed-8a6d-7085c28dab07.jpg -> Annotation:C:/Users/User/Desktop/local/TFODCourse/Tensorflow/workspace/images/collectedimages/Balloon\\Balloon.2002ee08-af75-11ed-8a6d-7085c28dab07.xml\n",
      "Image:C:\\Users\\User\\Desktop\\local\\TFODCourse\\Tensorflow\\workspace\\images\\collectedimages\\Balloon\\Balloon.2138ebc0-af75-11ed-89d7-7085c28dab07.jpg -> Annotation:C:/Users/User/Desktop/local/TFODCourse/Tensorflow/workspace/images/collectedimages/Balloon\\Balloon.2138ebc0-af75-11ed-89d7-7085c28dab07.xml\n",
      "Image:C:\\Users\\User\\Desktop\\local\\TFODCourse\\Tensorflow\\workspace\\images\\collectedimages\\Balloon\\Balloon.4437cc7e-af75-11ed-95bc-7085c28dab07.jpg -> Annotation:C:/Users/User/Desktop/local/TFODCourse/Tensorflow/workspace/images/collectedimages/Balloon\\Balloon.4437cc7e-af75-11ed-95bc-7085c28dab07.xml\n",
      "Image:C:\\Users\\User\\Desktop\\local\\TFODCourse\\Tensorflow\\workspace\\images\\collectedimages\\Balloon\\Balloon.165013cc-af75-11ed-b849-7085c28dab07.jpg -> Annotation:C:/Users/User/Desktop/local/TFODCourse/Tensorflow/workspace/images/collectedimages/Balloon\\Balloon.165013cc-af75-11ed-b849-7085c28dab07.xml\n",
      "Image:C:\\Users\\User\\Desktop\\local\\TFODCourse\\Tensorflow\\workspace\\images\\collectedimages\\Balloon\\Balloon.17862368-af75-11ed-a2f8-7085c28dab07.jpg -> Annotation:C:/Users/User/Desktop/local/TFODCourse/Tensorflow/workspace/images/collectedimages/Balloon\\Balloon.17862368-af75-11ed-a2f8-7085c28dab07.xml\n",
      "Image:C:\\Users\\User\\Desktop\\local\\TFODCourse\\Tensorflow\\workspace\\images\\collectedimages\\Balloon\\Balloon.43039062-af75-11ed-b1cd-7085c28dab07.jpg -> Annotation:C:/Users/User/Desktop/local/TFODCourse/Tensorflow/workspace/images/collectedimages/Balloon\\Balloon.43039062-af75-11ed-b1cd-7085c28dab07.xml\n"
     ]
    }
   ],
   "source": [
    "!cd {LABELIMG_PATH} && python labelImg.py"
   ]
  },
  {
   "cell_type": "markdown",
   "metadata": {},
   "source": [
    "# 6. Move them into a Training and Testing Partition"
   ]
  },
  {
   "cell_type": "markdown",
   "metadata": {},
   "source": [
    "# OPTIONAL - 7. Compress them for Colab Training"
   ]
  },
  {
   "cell_type": "code",
   "execution_count": 20,
   "metadata": {},
   "outputs": [],
   "source": [
    "TRAIN_PATH = os.path.join('Tensorflow', 'workspace', 'images', 'train')\n",
    "TEST_PATH = os.path.join('Tensorflow', 'workspace', 'images', 'test')\n",
    "ARCHIVE_PATH = os.path.join('Tensorflow', 'workspace', 'images', 'archive.tar.gz')"
   ]
  },
  {
   "cell_type": "code",
   "execution_count": 21,
   "metadata": {},
   "outputs": [],
   "source": [
    "!tar -czf {ARCHIVE_PATH} {TRAIN_PATH} {TEST_PATH}"
   ]
  },
  {
   "cell_type": "code",
   "execution_count": null,
   "metadata": {},
   "outputs": [],
   "source": []
  }
 ],
 "metadata": {
  "kernelspec": {
   "display_name": "tfod",
   "language": "python",
   "name": "tfod"
  },
  "language_info": {
   "codemirror_mode": {
    "name": "ipython",
    "version": 3
   },
   "file_extension": ".py",
   "mimetype": "text/x-python",
   "name": "python",
   "nbconvert_exporter": "python",
   "pygments_lexer": "ipython3",
   "version": "3.10.5"
  }
 },
 "nbformat": 4,
 "nbformat_minor": 2
}
